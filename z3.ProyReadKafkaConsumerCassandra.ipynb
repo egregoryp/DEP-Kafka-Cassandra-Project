{
 "cells": [
  {
   "cell_type": "code",
   "execution_count": 1,
   "id": "3add7813",
   "metadata": {},
   "outputs": [],
   "source": [
    "from pyspark.sql.functions import from_json, col, to_timestamp\n",
    "from pyspark.sql.types import StructType, StructField, StringType, IntegerType\n",
    "from pyspark.sql import SparkSession"
   ]
  },
  {
   "cell_type": "code",
   "execution_count": 2,
   "id": "baa665c4",
   "metadata": {},
   "outputs": [],
   "source": [
    "def write_to_cassandra(target_df, batch_id):\n",
    "    target_df.write \\\n",
    "        .format(\"org.apache.spark.sql.cassandra\") \\\n",
    "        .option(\"keyspace\", \"spark_db\") \\\n",
    "        .option(\"table\", \"customer_search\") \\\n",
    "        .mode(\"append\") \\\n",
    "        .save()\n",
    "    target_df.show()"
   ]
  },
  {
   "cell_type": "code",
   "execution_count": 3,
   "id": "5bb8b019",
   "metadata": {},
   "outputs": [],
   "source": [
    "spark = SparkSession \\\n",
    "        .builder \\\n",
    "        .master(\"local[3]\") \\\n",
    "        .appName(\"Stream Table Join Demo\") \\\n",
    "        .config(\"spark.streaming.stopGracefullyOnShutdown\", \"true\") \\\n",
    "        .config(\"spark.sql.shuffle.partitions\", 2) \\\n",
    "        .config(\"spark.cassandra.connection.host\", \"localhost\") \\\n",
    "        .config(\"spark.cassandra.connection.port\", \"9042\") \\\n",
    "        .config(\"spark.sql.extensions\", \"com.datastax.spark.connector.CassandraSparkExtensions\") \\\n",
    "        .config(\"spark.sql.catalog.lh\", \"com.datastax.spark.connector.datasource.CassandraCatalog\") \\\n",
    "        .getOrCreate()"
   ]
  },
  {
   "cell_type": "code",
   "execution_count": 4,
   "id": "d4ae92e7",
   "metadata": {},
   "outputs": [],
   "source": [
    "search_schema = StructType([\n",
    "        StructField(\"id\", StringType()),\n",
    "        StructField(\"customer_id\", StringType()),\n",
    "        StructField(\"customer_name\", StringType()),\n",
    "        StructField(\"product_searched\", StringType()),\n",
    "        StructField(\"search_date\", StringType()),\n",
    "        StructField(\"country_name\", StringType()),\n",
    "        StructField(\"state\", StringType())\n",
    "    ])"
   ]
  },
  {
   "cell_type": "code",
   "execution_count": 5,
   "id": "1da74b1e",
   "metadata": {},
   "outputs": [],
   "source": [
    "kafka_source_df = spark \\\n",
    "        .readStream \\\n",
    "        .format(\"kafka\") \\\n",
    "        .option(\"kafka.bootstrap.servers\", \"localhost:9092\") \\\n",
    "        .option(\"subscribe\", \"product-customer-qty\") \\\n",
    "        .option(\"startingOffsets\", \"earliest\") \\\n",
    "        .option(\"failOnDataLoss\", False) \\\n",
    "        .load()"
   ]
  },
  {
   "cell_type": "code",
   "execution_count": 6,
   "id": "5f053f38",
   "metadata": {},
   "outputs": [],
   "source": [
    "value_df = kafka_source_df.select(from_json(col(\"value\").cast(\"string\"), search_schema).alias(\"value\"))"
   ]
  },
  {
   "cell_type": "code",
   "execution_count": 7,
   "id": "5b6b2e9d",
   "metadata": {},
   "outputs": [],
   "source": [
    "prod_customer_df = value_df.select(\"value.*\") \\\n",
    "        .withColumn(\"search_date\", to_timestamp(col(\"search_date\"), \"yyyy-MM-dd HH:mm:ss\"))"
   ]
  },
  {
   "cell_type": "code",
   "execution_count": 8,
   "id": "d2bc8cdd",
   "metadata": {},
   "outputs": [
    {
     "name": "stdout",
     "output_type": "stream",
     "text": [
      "root\n",
      " |-- id: string (nullable = true)\n",
      " |-- customer_id: string (nullable = true)\n",
      " |-- customer_name: string (nullable = true)\n",
      " |-- product_searched: string (nullable = true)\n",
      " |-- search_date: timestamp (nullable = true)\n",
      " |-- country_name: string (nullable = true)\n",
      " |-- state: string (nullable = true)\n",
      "\n"
     ]
    }
   ],
   "source": [
    "prod_customer_df.printSchema()"
   ]
  },
  {
   "cell_type": "code",
   "execution_count": 9,
   "id": "60222bb6",
   "metadata": {},
   "outputs": [],
   "source": [
    "output_df = prod_customer_df.select(col(\"id\"), col(\"customer_id\"), col(\"customer_name\"), col(\"product_searched\"), \n",
    "                             col(\"search_date\"), col(\"country_name\"),col(\"state\"))\n",
    "#                             .withColumn(\"idNum\", col(\"customer_id\").cast(IntegerType())) \\\n",
    "#                             .withColumn(\"id\",    col(\"id\").cast(IntegerType()))"
   ]
  },
  {
   "cell_type": "code",
   "execution_count": 10,
   "id": "acc4a61b",
   "metadata": {},
   "outputs": [],
   "source": [
    "# #to view the data in the console\n",
    "notification_writer_query = output_df.writeStream \\\n",
    "        .format(\"console\") \\\n",
    "        .outputMode(\"append\") \\\n",
    "        .option(\"truncate\", \"false\") \\\n",
    "        .option(\"checkpointLocation\", \"./checkpoints/cassandra-proj/\") \\\n",
    "        .start()\n",
    "\n",
    "# # notification_writer_query.awaitTermination()"
   ]
  },
  {
   "cell_type": "code",
   "execution_count": 11,
   "id": "20cca931",
   "metadata": {},
   "outputs": [],
   "source": [
    "#Aggregations Val\n",
    "\n",
    "# agg_output_df = output_df.groupBy(\"country_name\", \"product_searched\")\\\n",
    "#       .agg(count(\"id\")).alias(\"search_qty\")\n",
    "\n",
    "# agg_search_locations_df = output_df.groupBy(\"name\")\\\n",
    "#      .agg(sum(\"idNum\"), count(\"id\"))"
   ]
  },
  {
   "cell_type": "code",
   "execution_count": 12,
   "id": "86d4389f",
   "metadata": {},
   "outputs": [],
   "source": [
    "# output_query = output_df.writeStream \\\n",
    "output_query = output_df.writeStream \\\n",
    "        .foreachBatch(write_to_cassandra) \\\n",
    "        .outputMode(\"update\") \\\n",
    "        .option(\"checkpointLocation\", \"./checkpoints/cassandra-proj\") \\\n",
    "        .trigger(processingTime=\"1 minute\") \\\n",
    "        .start()"
   ]
  },
  {
   "cell_type": "code",
   "execution_count": null,
   "id": "eed1fe2c",
   "metadata": {},
   "outputs": [
    {
     "name": "stdout",
     "output_type": "stream",
     "text": [
      "+---+-----------+-------------+--------------------+-------------------+--------------+-------------------+\n",
      "| id|customer_id|customer_name|    product_searched|        search_date|  country_name|              state|\n",
      "+---+-----------+-------------+--------------------+-------------------+--------------+-------------------+\n",
      "|422|         11|       Emilia|         Samsung Tab|2023-04-29 11:23:45|        Zambia|Copperbelt Province|\n",
      "|423|         10|        Emona|           Bed Sheet|2023-04-29 11:24:15|Czech Republic|             Semily|\n",
      "|424|         14|       Mirtha|  Asus Gaming Laptop|2023-04-29 11:24:45|    Azerbaijan|   Agstafa District|\n",
      "|425|         19|    Johnathan|          Fire Stick|2023-04-29 11:25:15|     Lithuania|    Šiauliai County|\n",
      "|426|          6|       Emilio|     Ninja Air Frier|2023-04-29 11:25:45| United States|             Alaska|\n",
      "|427|          9|          Jox|Samsung Galaxy s2...|2023-04-29 11:26:15|        Latvia| Ludza Municipality|\n",
      "+---+-----------+-------------+--------------------+-------------------+--------------+-------------------+\n",
      "\n",
      "+---+-----------+-------------+--------------------+-------------------+------------+-------+\n",
      "| id|customer_id|customer_name|    product_searched|        search_date|country_name|  state|\n",
      "+---+-----------+-------------+--------------------+-------------------+------------+-------+\n",
      "|428|          3|      EmilyAn|Samsung Galaxy s2...|2023-04-29 11:26:45|      Turkey|Ardahan|\n",
      "+---+-----------+-------------+--------------------+-------------------+------------+-------+\n",
      "\n",
      "+---+-----------+-------------+----------------+-------------------+------------+--------------+\n",
      "| id|customer_id|customer_name|product_searched|        search_date|country_name|         state|\n",
      "+---+-----------+-------------+----------------+-------------------+------------+--------------+\n",
      "|429|         15|       Martha|            Roku|2023-04-29 11:27:15|      Uganda|Western Region|\n",
      "|430|         13|        Mario|      Apple Ipad|2023-04-29 11:27:45|     Morocco|        Midelt|\n",
      "+---+-----------+-------------+----------------+-------------------+------------+--------------+\n",
      "\n",
      "+---+-----------+-------------+----------------+-------------------+------------+-------+\n",
      "| id|customer_id|customer_name|product_searched|        search_date|country_name|  state|\n",
      "+---+-----------+-------------+----------------+-------------------+------------+-------+\n",
      "|431|         13|        Mario|      Air Jordan|2023-04-29 11:28:15|     Nigeria|Plateau|\n",
      "|432|         10|        Emona|     Samsung Tab|2023-04-29 11:28:45|        Iraq|Baghdad|\n",
      "+---+-----------+-------------+----------------+-------------------+------------+-------+\n",
      "\n",
      "+---+-----------+-------------+----------------+-------------------+--------------------+--------------------+\n",
      "| id|customer_id|customer_name|product_searched|        search_date|        country_name|               state|\n",
      "+---+-----------+-------------+----------------+-------------------+--------------------+--------------------+\n",
      "|433|          4|         John|       Bed Sheet|2023-04-29 11:29:15|Cote D'Ivoire (Iv...|     Marahoué Region|\n",
      "|434|          4|         John|        Creatine|2023-04-29 11:29:45|              Cyprus|Limassol District...|\n",
      "+---+-----------+-------------+----------------+-------------------+--------------------+--------------------+\n",
      "\n",
      "+---+-----------+-------------+--------------------+-------------------+------------+---------+\n",
      "| id|customer_id|customer_name|    product_searched|        search_date|country_name|    state|\n",
      "+---+-----------+-------------+--------------------+-------------------+------------+---------+\n",
      "|435|          6|       Emilio|Workout Leggins f...|2023-04-29 11:30:15|     Ireland|Waterford|\n",
      "|436|         11|       Emilia|         Samsung Tab|2023-04-29 11:30:45| Netherlands|  Bonaire|\n",
      "+---+-----------+-------------+--------------------+-------------------+------------+---------+\n",
      "\n"
     ]
    }
   ],
   "source": [
    "output_query.awaitTermination()"
   ]
  }
 ],
 "metadata": {
  "kernelspec": {
   "display_name": "Python 3 (ipykernel)",
   "language": "python",
   "name": "python3"
  },
  "language_info": {
   "codemirror_mode": {
    "name": "ipython",
    "version": 3
   },
   "file_extension": ".py",
   "mimetype": "text/x-python",
   "name": "python",
   "nbconvert_exporter": "python",
   "pygments_lexer": "ipython3",
   "version": "3.10.9"
  }
 },
 "nbformat": 4,
 "nbformat_minor": 5
}
