{
 "cells": [
  {
   "cell_type": "code",
   "execution_count": null,
   "id": "6eda09a3",
   "metadata": {},
   "outputs": [],
   "source": [
    "import datetime\n",
    "import json\n",
    "import random\n",
    "import time\n",
    "from itertools import count"
   ]
  },
  {
   "cell_type": "code",
   "execution_count": null,
   "id": "8775b39c",
   "metadata": {},
   "outputs": [],
   "source": [
    "# sample list of customer names\n",
    "customer_names = [\"John\", \"Emily\", \"Luke\", \"Mary\"]\n",
    "\n",
    "file_name = 'customers.json'"
   ]
  },
  {
   "cell_type": "code",
   "execution_count": null,
   "id": "3ca27fe3",
   "metadata": {},
   "outputs": [],
   "source": [
    "#getting last id saved in json file\n",
    "lastID = 0\n",
    "try:\n",
    "    # print(file_name.replace('.json', 'lastID.json'))\n",
    "    f = open(file_name.replace('.json', 'lastID.json'))\n",
    "    data = json.load(f)\n",
    "    if data['id']:\n",
    "        lastID = data['id']\n",
    "    \n",
    "    # Closing file\n",
    "    f.close()\n",
    "except:        \n",
    "    print('File not found, ID will start in 0')\n",
    "\n",
    "print(lastID)"
   ]
  },
  {
   "cell_type": "code",
   "execution_count": null,
   "id": "7e735793",
   "metadata": {},
   "outputs": [],
   "source": [
    "counter = lastID\n",
    "while True:\n",
    "    # Getting the current date and time\n",
    "    dt = datetime.datetime.now()\n",
    "\n",
    "    # getting the timestamp\n",
    "    # ts = datetime.datetime.timestamp(dt)\n",
    "\n",
    "    # Convert the datetime object to a string in a specific format\n",
    "    dt_str = dt.strftime(\"%Y-%m-%d %H:%M:%S\")\n",
    "    \n",
    "    counter = counter + 1\n",
    "    # print(counter)\n",
    "\n",
    "    # generate random customer data\n",
    "    customer_data = {\n",
    "        \"id\": counter,\n",
    "        \"name\": random.choice(customer_names),\n",
    "        \"age\": random.randint(18, 60),\n",
    "        \"address\": f\"{random.randint(10, 100)} {random.choice(['Main St', 'Maple Ave', 'Oak Rd'])}\",\n",
    "        \"email\": f\"{random.choice(['johndoe', 'emilysmith', 'lukewilson', 'maryjones'])}{random.randint(1, 100)}@example.com\",\n",
    "        \"CreateDate\": dt_str\n",
    "    }\n",
    "\n",
    "    # open the JSON file in append mode\n",
    "    with open(file_name, \"a\") as f:\n",
    "        # write the customer data to the file\n",
    "        json.dump(customer_data, f)\n",
    "        # add a new line\n",
    "        f.write(\"\\n\")\n",
    "        \n",
    "    # save last ID in another JSON file\n",
    "    with open(file_name.replace('.json', 'lastID.json'), \"w\") as f:\n",
    "        # write the customer data to the file\n",
    "        json.dump({\"id\": counter}, f)\n",
    "        # add a new line\n",
    "        f.write(\"\\n\")\n",
    "\n",
    "    # sleep for a certain amount of time before writing again\n",
    "    time.sleep(2)\n"
   ]
  }
 ],
 "metadata": {
  "kernelspec": {
   "display_name": "Python 3 (ipykernel)",
   "language": "python",
   "name": "python3"
  },
  "language_info": {
   "codemirror_mode": {
    "name": "ipython",
    "version": 3
   },
   "file_extension": ".py",
   "mimetype": "text/x-python",
   "name": "python",
   "nbconvert_exporter": "python",
   "pygments_lexer": "ipython3",
   "version": "3.10.9"
  }
 },
 "nbformat": 4,
 "nbformat_minor": 5
}
